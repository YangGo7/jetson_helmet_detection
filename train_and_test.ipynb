{
 "cells": [
  {
   "cell_type": "code",
   "execution_count": null,
   "metadata": {},
   "outputs": [
    {
     "name": "stderr",
     "output_type": "stream",
     "text": [
      "Exception in thread Thread-6 (_readerthread):\n",
      "Traceback (most recent call last):\n",
      "  File \"c:\\Users\\chaey\\AppData\\Local\\Programs\\Python\\Python312\\Lib\\threading.py\", line 1075, in _bootstrap_inner\n",
      "    self.run()\n",
      "  File \"C:\\Users\\chaey\\AppData\\Roaming\\Python\\Python312\\site-packages\\ipykernel\\ipkernel.py\", line 766, in run_closure\n",
      "    _threading_Thread_run(self)\n",
      "  File \"c:\\Users\\chaey\\AppData\\Local\\Programs\\Python\\Python312\\Lib\\threading.py\", line 1012, in run\n",
      "    self._target(*self._args, **self._kwargs)\n",
      "  File \"c:\\Users\\chaey\\AppData\\Local\\Programs\\Python\\Python312\\Lib\\subprocess.py\", line 1599, in _readerthread\n",
      "    buffer.append(fh.read())\n",
      "                  ^^^^^^^^^\n",
      "UnicodeDecodeError: 'cp949' codec can't decode byte 0xe2 in position 5672: illegal multibyte sequence\n"
     ]
    },
    {
     "name": "stdout",
     "output_type": "stream",
     "text": [
      "Train Output:\n",
      " \u001b[34m\u001b[1mgithub: \u001b[0mskipping check (not a git repository), for updates see https://github.com/ultralytics/yolov5\n",
      "\n",
      "Train Errors:\n",
      " None\n"
     ]
    }
   ],
   "source": [
    "import subprocess\n",
    "\n",
    "def train_yolov5():\n",
    "    command = [\n",
    "        \"python\",\n",
    "        r\"C:\\Users\\chaey\\Downloads\\yolov5-master\\yolov5-master\\train.py\",  # 경로 수정\n",
    "        \"--img\", \"640\",\n",
    "        \"--batch\", \"8\",\n",
    "        \"--workers\", \"4\",\n",
    "        \"--epochs\", \"10\",\n",
    "        \"--data\", r\"C:\\Users\\chaey\\Downloads\\yolov5-master\\yolov5-master\\data\\data.yaml\",\n",
    "        \"--weights\", \"yolov5s.pt\",\n",
    "        \"--device\", \"0\"  # GPU 첫 번째 장치를 사용\n",
    "    ]\n",
    "    \n",
    "    # 외부 명령어 실행\n",
    "    result = subprocess.run(command, capture_output=True, text=True, shell=True)\n",
    "    \n",
    "    # 실행 결과 출력\n",
    "    print(\"Train Output:\\n\", result.stdout)\n",
    "    print(\"Train Errors:\\n\", result.stderr)\n",
    "\n",
    "if __name__ == \"__main__\":\n",
    "    train_yolov5()\n"
   ]
  },
  {
   "cell_type": "code",
   "execution_count": null,
   "metadata": {},
   "outputs": [
    {
     "name": "stdout",
     "output_type": "stream",
     "text": [
      "경로 설정:\n",
      "YOLOv5 경로: C:\\Users\\chaey\\Downloads\\yolov5-master\\yolov5-master\n",
      "가중치 파일: C:\\Users\\chaey\\Downloads\\yolov5-master\\yolov5-master\\runs\\train\\exp4\\weights\\best.pt\n",
      "테스트 비디오: C:\\Users\\chaey\\Downloads\\yolov5-master\\yolov5-master\\2048246-hd_1920_1080_24fps.mp4\n",
      "결과 저장 경로: C:\\Users\\chaey\\Downloads\\yolov5-master\\yolov5-master\\runs\\detect\\exp5\n",
      "\n",
      "YOLOv5를 실행합니다...\n",
      "\n",
      "YOLOv5 실행 완료! 결과는 다음 경로에 저장됩니다:\n",
      "C:\\Users\\chaey\\Downloads\\yolov5-master\\yolov5-master\\runs\\detect\\exp5\n"
     ]
    }
   ],
   "source": [
    "import os\n",
    "from pathlib import Path\n",
    "\n",
    "# 사용자 경로 설정 밑에 수정해야함 \n",
    "yolov5_path = Path(r\"C:\\Users\\chaey\\Downloads\\yolov5-master\\yolov5-master\")  # YOLOv5 기본 경로\n",
    "weights_path = yolov5_path / \"runs/train/exp4/weights/best.pt\"  # 학습된 가중치\n",
    "source_video = yolov5_path / \"2048246-hd_1920_1080_24fps.mp4\"  # 테스트 비디오\n",
    "output_base_path = yolov5_path / \"runs/detect\"  # 결과 저장 기본 경로\n",
    "\n",
    "# 새로운 결과 폴더 경로 자동 생성\n",
    "exp_dirs = list(output_base_path.glob(\"exp*\"))\n",
    "new_exp_dir = output_base_path / f\"exp{len(exp_dirs) + 1}\"\n",
    "\n",
    "# YOLOv5 실행 명령어 생성\n",
    "img_size = 640\n",
    "confidence_threshold = 0.5\n",
    "\n",
    "command = (\n",
    "    f\"cd {yolov5_path} && \"\n",
    "    f\"python detect.py \"\n",
    "    f\"--weights {weights_path} \"\n",
    "    f\"--source {source_video} \"\n",
    "    f\"--img {img_size} \"\n",
    "    f\"--conf {confidence_threshold} \"\n",
    "    f\"--project {output_base_path} \"\n",
    "    f\"--name {new_exp_dir.name} \"\n",
    "    f\"--save-txt --save-conf --save-crop\"\n",
    ")\n",
    "\n",
    "# 경로 출력\n",
    "print(\"경로 설정:\")\n",
    "print(f\"YOLOv5 경로: {yolov5_path}\")\n",
    "print(f\"가중치 파일: {weights_path}\")\n",
    "print(f\"테스트 비디오: {source_video}\")\n",
    "print(f\"결과 저장 경로: {new_exp_dir}\")\n",
    "\n",
    "# 실행\n",
    "print(\"\\nYOLOv5를 실행합니다...\")\n",
    "exit_code = os.system(command)\n",
    "\n",
    "# 결과 확인\n",
    "if exit_code == 0:\n",
    "    print(f\"\\nYOLOv5 실행 완료! 결과는 다음 경로에 저장됩니다:\\n{new_exp_dir}\")\n",
    "else:\n",
    "    print(\"\\nYOLOv5 실행 중 오류가 발생했습니다. 경로와 설정을 다시 확인하세요.\")\n"
   ]
  }
 ],
 "metadata": {
  "kernelspec": {
   "display_name": "Python 3",
   "language": "python",
   "name": "python3"
  },
  "language_info": {
   "codemirror_mode": {
    "name": "ipython",
    "version": 3
   },
   "file_extension": ".py",
   "mimetype": "text/x-python",
   "name": "python",
   "nbconvert_exporter": "python",
   "pygments_lexer": "ipython3",
   "version": "3.12.7"
  }
 },
 "nbformat": 4,
 "nbformat_minor": 2
}
